{
  "nbformat": 4,
  "nbformat_minor": 0,
  "metadata": {
    "colab": {
      "name": "ECE788_AungNay_Project_Presentation.ipynb",
      "provenance": [],
      "collapsed_sections": []
    },
    "kernelspec": {
      "name": "python3",
      "display_name": "Python 3"
    }
  },
  "cells": [
    {
      "cell_type": "markdown",
      "metadata": {
        "id": "jCQvIC2SCqGV"
      },
      "source": [
        "# Problem Definition\n",
        "\n",
        "---\n",
        "\n",
        "If we have 1 million vaccine doses available and we have to distribute the vaccine by county (with average country population of 100,000), we have to find 10 counties with the highest risk to send the vaccines to. In order to do so, we want to find maxima value of the 10 counties in question. \n",
        "\n",
        "Fitness Function\n",
        "\n",
        "$\\sum_{i=1}^g n_i R_t (c+1)(h+1)d_i$\n",
        "\n",
        "where: \n",
        "\n",
        "$g = $ number of age groups from Census Bureau\n",
        "\n",
        "$n_i = $ population size of each age group\n",
        "\n",
        "$R_t = $ infection rate OR reproductive number\n",
        "\n",
        "$c = $ case density in the county risk factor\n",
        "\n",
        "$h = $ ICU headroom risk factor\n",
        "\n",
        "$d_i = $ likelihood of death for each age group (modified to fit CDC age bins)\n",
        "\n",
        "For additional information on problem definition, please visit https://github.com/aungnay/vacdist#problemdefinition\n",
        "\n"
      ]
    },
    {
      "cell_type": "markdown",
      "metadata": {
        "id": "YpD-FLD6hfjS"
      },
      "source": [
        "# Library Import Section"
      ]
    },
    {
      "cell_type": "code",
      "metadata": {
        "id": "VmeaYmc1f_zI"
      },
      "source": [
        "# installation of DEAP\n",
        "!pip install deap"
      ],
      "execution_count": null,
      "outputs": []
    },
    {
      "cell_type": "code",
      "metadata": {
        "id": "Rpuso0JtgB8I"
      },
      "source": [
        "# importing all the libraries needed for generating random values, data analysis, \n",
        "# n-dimension arrays, data visualization, plotting, and genetic algorithms\n",
        "import random\n",
        "import pandas as pd\n",
        "import numpy as np\n",
        "import seaborn as sns\n",
        "import matplotlib.pyplot as plt\n",
        "from deap import algorithms, base, creator, tools\n",
        "import timeit"
      ],
      "execution_count": null,
      "outputs": []
    },
    {
      "cell_type": "markdown",
      "metadata": {
        "id": "qXvbnY3shZhD"
      },
      "source": [
        "# Data Import Section\n",
        "\n",
        "Importing \n",
        "*   2019 census bureau's estimate data from all the counties in 50 states and District of Columbia with population data for different age groups\n",
        "*   Real-time COVID-19 data from CovidActNow\n",
        "\n",
        "Manually create an array with CDC data and variables for vaccine quantity and average county sizes"
      ]
    },
    {
      "cell_type": "code",
      "metadata": {
        "id": "ylnXEiBBjf18"
      },
      "source": [
        "# defining the columns that we want to read into the data frame\n",
        "col = ['STATE','COUNTY','STNAME','CTYNAME','YEAR','POPESTIMATE','AGE04_TOT','AGE59_TOT','AGE1014_TOT','AGE1519_TOT','AGE2024_TOT','AGE2529_TOT','AGE3034_TOT','AGE3539_TOT','AGE4044_TOT','AGE4549_TOT','AGE5054_TOT','AGE5559_TOT','AGE6064_TOT','AGE6569_TOT','AGE7074_TOT','AGE7579_TOT','AGE8084_TOT','AGE85PLUS_TOT']\n",
        "\n",
        "# creating an empty data frame with the headers\n",
        "states = pd.DataFrame(columns = col)\n",
        "\n",
        "# reads in 2019 census data csv files from the Census Bureau using the FIPS state values \n",
        "# https://www.census.gov/content/census/en/data/datasets/time-series/demo/popest/2010s-counties-detail.html\n",
        "id = 1\n",
        "for i in range(0,56):\n",
        "  if id < 10:\n",
        "    code = '0' + str(id)\n",
        "  else:\n",
        "    code = str(id)\n",
        "  # excluding non-states and New Mexico but include District of Columbia\n",
        "  # New Mexico (35) csv file was having problems with the pandas read\n",
        "  if code not in ['03','07','14','35','43','52']:\n",
        "    # reading in only the columns defined above and defining state and county\n",
        "    # data types as strings so that we can concatenate them later\n",
        "    temp = pd.read_csv('https://www2.census.gov/programs-surveys/popest/datasets/2010-2019/counties/asrh/cc-est2019-agesex-'+code+'.csv', usecols = col, dtype={'STATE':str,'COUNTY':str})\n",
        "    # the Census Bureau splits the FIPS values into two columns of state and county\n",
        "    # we are concatenating them and creating a new column call FIPS\n",
        "    temp['FIPS'] = temp['STATE'] + temp['COUNTY']\n",
        "    # slicing the data frame for 2019 data\n",
        "    temp = temp[temp['YEAR'] == 12]\n",
        "    # concatenating state data frames into a single states data frame\n",
        "    states = pd.concat([states,temp])\n",
        "  id += 1"
      ],
      "execution_count": null,
      "outputs": []
    },
    {
      "cell_type": "code",
      "metadata": {
        "id": "7IIw2VXxkVC0"
      },
      "source": [
        "# check data frame for number of counties for debugging\n",
        "# print(states)"
      ],
      "execution_count": null,
      "outputs": []
    },
    {
      "cell_type": "markdown",
      "metadata": {
        "id": "isNkb_FSMk0t"
      },
      "source": [
        "Adding New Mexico. New Mexico has a county named \"Doña Ana County\". ñ was having problems with utf-8. ñ was changed to n and the csv file was uploaded to github and read. Then concatenated to states."
      ]
    },
    {
      "cell_type": "code",
      "metadata": {
        "id": "YlHLG4LcI5Cb"
      },
      "source": [
        "nm = pd.read_csv('https://raw.githubusercontent.com/aungnay/vacdist/main/data/cc-est2019-agesex-35.csv', dtype={'STATE':str,'COUNTY':str})\n",
        "nm['FIPS'] = nm['STATE'] + nm['COUNTY']\n",
        "states = pd.concat([states,nm])"
      ],
      "execution_count": null,
      "outputs": []
    },
    {
      "cell_type": "code",
      "metadata": {
        "id": "GIvh6DcsKJHf"
      },
      "source": [
        "# check data frame for number of counties for debugging\n",
        "# print(states)"
      ],
      "execution_count": null,
      "outputs": []
    },
    {
      "cell_type": "markdown",
      "metadata": {
        "id": "BQemoOoINNGx"
      },
      "source": [
        "Importing COVID-19 Reproductive Rates for all counties. (Not all counties have data) from COVID Act Now."
      ]
    },
    {
      "cell_type": "code",
      "metadata": {
        "id": "rsiOiZVuHbeb"
      },
      "source": [
        "# reading in only the FIPS and real-time Covid reproductive rate and defining \n",
        "# FIPS column as a string so that we can use it to merge the data frames\n",
        "# rRate = pd.read_csv('https://api.covidactnow.org/v2/counties.csv?apiKey=98adfe7ece9840a8a8f4af1c0dfea76c', usecols = ['fips','metrics.infectionRate','riskLevels.caseDensity','riskLevels.icuHeadroomRatio'], dtype={'fips':str})\n",
        "\n",
        "# reading in only the FIPS and Covid reproductive rate at 14:09 on 11/30/2020 \n",
        "# and defining FIPS column as a string so that we can use it to merge the data \n",
        "# frames. this allows for independent calculation of optimal solution and do\n",
        "# comparisons against the GA with different parameters\n",
        "rRate = pd.read_csv('https://raw.githubusercontent.com/aungnay/vacdist/main/data/counties2011301409.csv', usecols = ['fips','metrics.infectionRate','riskLevels.caseDensity','riskLevels.icuHeadroomRatio'], dtype={'fips':str})\n",
        "\n",
        "# renaming column name to have exact match with the states data frame\n",
        "rRate.rename(columns={'fips':'FIPS'}, inplace=True)"
      ],
      "execution_count": null,
      "outputs": []
    },
    {
      "cell_type": "code",
      "metadata": {
        "id": "P5urzTncHjkv"
      },
      "source": [
        "# check data frame for number of counties for debugging\n",
        "# print(rRate)"
      ],
      "execution_count": null,
      "outputs": []
    },
    {
      "cell_type": "markdown",
      "metadata": {
        "id": "hqCqk8TOOsgj"
      },
      "source": [
        "Inner Join of two data frames above"
      ]
    },
    {
      "cell_type": "code",
      "metadata": {
        "id": "eHPaaDmyJNAQ"
      },
      "source": [
        "# inner joining with merge function to merge the states and rRate data frames\n",
        "# using FIPS as key column. only merging rows with matching data on both data \n",
        "# frames. the NaN data for reproductive rates are still in the new data frame\n",
        "cdf = pd.merge(states, rRate, on=['FIPS'])\n",
        "\n",
        "# check data frame for number of counties after merge for debugging\n",
        "print(cdf)"
      ],
      "execution_count": null,
      "outputs": []
    },
    {
      "cell_type": "code",
      "metadata": {
        "id": "Mfh1ca-fInKa"
      },
      "source": [
        "# drops all counties with NaN\n",
        "cdfn = cdf.dropna()\n",
        "\n",
        "# check data frame for number counties after drop for debugging\n",
        "print(cdfn)\n",
        "\n",
        "# exporting cdfn.csv\n"
      ],
      "execution_count": null,
      "outputs": []
    },
    {
      "cell_type": "code",
      "metadata": {
        "id": "owh8lE8bmM4I"
      },
      "source": [
        "# exporting cdfn data frame to my google drive\n",
        "#from google.colab import drive\n",
        "#drive.mount('drive')\n",
        "#cdfn.to_csv('cdfn.csv')\n",
        "#!cp cdfn.csv \"drive/My Drive/\""
      ],
      "execution_count": null,
      "outputs": []
    },
    {
      "cell_type": "code",
      "metadata": {
        "id": "Sw3GefD45kz-"
      },
      "source": [
        "# modified death risk array\n",
        "d = [1/9,1/16,1/16,1/16,1,1,4,4,10,10,30,30,30,90,90,220,220,630]\n",
        "\n",
        "# vaccine quantity\n",
        "v_qty = 1000000\n",
        "\n",
        "# mean county population size\n",
        "c_size = 100000\n",
        "\n",
        "# ga population size\n",
        "n_sol = len(cdfn) * 0.01"
      ],
      "execution_count": null,
      "outputs": []
    },
    {
      "cell_type": "markdown",
      "metadata": {
        "id": "-pDTZCMuhRol"
      },
      "source": [
        "# Genetic Algorithm Section"
      ]
    },
    {
      "cell_type": "code",
      "metadata": {
        "id": "az4uO02QwA6x"
      },
      "source": [
        "# creates the new class FitnessMax that inherits from base.Fitness with weight of 1.0 for maximizing function\n",
        "creator.create(\"FitnessMax\", base.Fitness, weights=(1.0,))\n",
        "creator.create(\"Individual\", list, fitness=creator.FitnessMax)"
      ],
      "execution_count": null,
      "outputs": []
    },
    {
      "cell_type": "code",
      "metadata": {
        "id": "jju805qdxXaT"
      },
      "source": [
        "# generate solutions from the range of index of the dataframe without replacement\n",
        "# so that counties would not be repeated. the population of solutions are \n",
        "# created as a list\n",
        "toolbox = base.Toolbox()\n",
        "toolbox.register(\"index\", np.random.choice, len(cdfn), int(v_qty/c_size), replace=False)\n",
        "toolbox.register(\"individual\", tools.initIterate, creator.Individual, toolbox.index)\n",
        "toolbox.register(\"population\", tools.initRepeat, list, toolbox.individual)"
      ],
      "execution_count": null,
      "outputs": []
    },
    {
      "cell_type": "code",
      "metadata": {
        "id": "JUxv_cI3HaBa"
      },
      "source": [
        "# test generation of a single solution for debugging\n",
        "toolbox.individual()"
      ],
      "execution_count": null,
      "outputs": []
    },
    {
      "cell_type": "code",
      "metadata": {
        "id": "JVSJJJj7yxOS"
      },
      "source": [
        "# test generation of a population for debugging\n",
        "toolbox.population(n=31)"
      ],
      "execution_count": null,
      "outputs": []
    },
    {
      "cell_type": "code",
      "metadata": {
        "id": "R9_69yHy1a-c"
      },
      "source": [
        "# fitness function as shown in the problem description\n",
        "def risk(individual):\n",
        "  county_risk = 0\n",
        "  # checking if the solution has a repeat of counties through mutation or crossover\n",
        "  if len(individual) != len(set(individual)):\n",
        "    return county_risk,\n",
        "  # calculates fitness function for the solution\n",
        "  else:\n",
        "    for i in individual:\n",
        "      for j in range(6,24):\n",
        "        temp = cdfn.iloc[i][j]*cdfn.iloc[i][25]*(cdfn.iloc[i][26]+1)*(cdfn.iloc[i][27]+1)*d[j-6]\n",
        "        county_risk += temp\n",
        "    return county_risk,"
      ],
      "execution_count": null,
      "outputs": []
    },
    {
      "cell_type": "code",
      "metadata": {
        "id": "rAi2QnjEBhN6"
      },
      "source": [
        "# registration of operators for the DEAP toolbox\n",
        "# evaluate function will use the my fitness function \"risk\"\n",
        "toolbox.register(\"evaluate\", risk)\n",
        "# crossover function will be the DEAP one point crossover method\n",
        "# other crossover methods are tools.cxTwoPoint, tools.cxOrdered, tools.csUniform,\n",
        "# and tools.cxPartialyMatched\n",
        "toolbox.register(\"mate\", tools.cxOnePoint)\n",
        "# mutate function will be the DEAP uniform mutation with the probabilty of 0.1\n",
        "# with lower bound of 0 and upper bound of length of cdfn data frame -1, based \n",
        "# on number of rows in my data frame\n",
        "toolbox.register(\"mutate\", tools.mutUniformInt, low=0, up=len(cdfn)-1, indpb=1/len(cdfn))\n",
        "# selection fundtion will be the DEAP roulette method with default settings\n",
        "# other selection methods are tools.selTournament and tools.selBest\n",
        "toolbox.register(\"select\", tools.selRoulette)"
      ],
      "execution_count": null,
      "outputs": []
    },
    {
      "cell_type": "code",
      "metadata": {
        "id": "niIeTBuaDZVT"
      },
      "source": [
        "def ga():\n",
        "  # timer start\n",
        "  tic = timeit.default_timer()\n",
        "  \n",
        "  random.seed(64)\n",
        "  # number of solutions for the population or population size\n",
        "  n_sol = 300\n",
        "  # generating the population using the toolbox and population size\n",
        "  pop = toolbox.population(n=n_sol)\n",
        "  # DEAP hall of fame keeps defined number of best solutions in the population\n",
        "  hof = tools.HallOfFame(0)\n",
        "  # defining what should be included in the statistics\n",
        "  stats = tools.Statistics(lambda ind: ind.fitness.values)\n",
        "  stats.register(\"avg\", np.mean)\n",
        "  stats.register(\"std\", np.std)\n",
        "  stats.register(\"min\", np.min)\n",
        "  stats.register(\"max\", np.max)\n",
        "  # generation of new population using DEAP simple\n",
        "  # to add hall of fame, change hof value above and add \"halloffame=hof\" as parameter\n",
        "  # set cxpb to 0 to not use crossover. set cxpb between 0.6 and 0.9\n",
        "  # set mutpb to 0 to not use mutation. set mutpb between 1/len(individual) and 1/pop\n",
        "  pop, log = algorithms.eaSimple(pop, toolbox, cxpb=0.75, mutpb=0.1, ngen=100, stats=stats, verbose=True)\n",
        "  \n",
        "  # timer stop\n",
        "  toc = timeit.default_timer()\n",
        "\n",
        "  # print elapsed time\n",
        "  print(toc - tic)\n",
        "\n",
        "  # extract statistics:\n",
        "  minFitnessValues, meanFitnessValues, maxFitnessValues = log.select(\"min\", \"avg\", \"max\")\n",
        "\n",
        "  # plot statistics:\n",
        "  sns.set_style(\"whitegrid\")\n",
        "  plt.plot(minFitnessValues, color='blue')\n",
        "  plt.plot(meanFitnessValues, color='red')\n",
        "  plt.plot(maxFitnessValues, color='green')\n",
        "  plt.xlabel('Generation')\n",
        "  plt.ylabel('Min / Average / Max Fitness')\n",
        "  plt.title('Min, Average, and Max fitness over Generations')\n",
        "  plt.show() \n",
        "\n",
        "  # returns the list of top 5 solutions\n",
        "  return tools.selBest(pop, k=5)"
      ],
      "execution_count": null,
      "outputs": []
    },
    {
      "cell_type": "code",
      "metadata": {
        "id": "BWQl4XhmPWlB"
      },
      "source": [
        "# runs the ga method and sets the best 5 solutions as a numpy array\n",
        "best = ga()"
      ],
      "execution_count": null,
      "outputs": []
    },
    {
      "cell_type": "code",
      "metadata": {
        "id": "29YLuKCvROWI"
      },
      "source": [
        "# prints the list of top 5 solutions with the name of counties\n",
        "for i in range(0,5):\n",
        "  print(\"set\"+str(i))\n",
        "  print(risk(best[0]))\n",
        "  for j in range(0,10):\n",
        "    print(cdfn.iloc[best[i][j]][3], \", \", cdfn.iloc[best[i][j]][2])\n",
        "  print()"
      ],
      "execution_count": null,
      "outputs": []
    },
    {
      "cell_type": "markdown",
      "metadata": {
        "id": "Q1zy8gJW_2x4"
      },
      "source": [
        "#Findings\n",
        "\n",
        "For detailed findings, please visit https://github.com/aungnay/vacdist#findings"
      ]
    },
    {
      "cell_type": "markdown",
      "metadata": {
        "id": "g6h_coN7_kLw"
      },
      "source": [
        "# References\n",
        "\n",
        "Alajmi, A., & Wright, J. (2014, June). Selecting the most efficient genetic algorithm sets in solving unconstrained building optimization problem. International Journal of Sustainable Built Environment, 3(1), 18-26.\n",
        "\n",
        "Bäck, T. (2000). Introduction to evolutionary algorithms. In Evolutionary Computation 1 Basic Algorithms and Operators. Bristol, United Kingdom: Institute of Physics.\n",
        "\n",
        "Blickle, T., & Thiele, L. (1995, July). A Mathematical Analysis of Tournament Selection. Proceedings of the 6th International Conference on Genetic Algorithms (ICGA95), 9-16.\n",
        "\n",
        "Centers for Disease Control and Prevention. (2020, August 18). COVID-19 Hospitalization and Death by Age. Retrieved from Centers for Disease Control and Prevention: https://www.cdc.gov/coronavirus/2019-ncov/covid-data/investigations-discovery/hospitalization-death-by-age.html\n",
        "\n",
        "CovidActNow. (2020). Tools. Retrieved from CovidActNow: https://covidactnow.org/tools\n",
        "\n",
        "Gad, A. (2020). GeneticAlgorithmPython. Retrieved from GitHub: https://github.com/ahmedfgad/GeneticAlgorithmPython\n",
        "\n",
        "Haupt, R. L., & Haupt, S. E. (2004). Practical Genetic Algorithms. Hoboken, New Jersey: John Wiley & Sons.\n",
        "\n",
        "McGowan, C. (2017, March 9). Genetic Algorithms: Tournament Selection. Retrieved from Medium: https://medium.com/@c4lv1nmcg0wan/genetic-algorithms-tournament-selection-b150bc76f0d8\n",
        "\n",
        "Patel, R., Longini, I. M., Jr, & Halloran, M. E. (2005). Finding optimal vaccination strategies for pandemic influenza using genetic algorithms. Journal of theoretical biology, 234(2), 201–212. https://doi.org/10.1016/j.jtbi.2004.11.032\n",
        "\n",
        "Rainville, F.-M. d., Fortin, F.-A., Gagné, C., Gagnon, O., Gardner, M.-A., Grenier, S., . . . Parizeau, M. (2020). DEAP. Retrieved from GitHub: https://github.com/deap/deap\n",
        "\n",
        "Song, C. (2019). Decision_Making_with_GA_using_DEAP. Retrieved from GitHub: https://github.com/daydrill/ga_pycon_2016_apac/blob/master/Decision_Making_with_GA_using_DEAP.ipynb\n",
        "\n",
        "United States Census Bureau. (2020). County Population by Characteristics: 2010-2019. Retrieved from United States Census Bureau: https://www.census.gov/content/census/en/data/datasets/time-series/demo/popest/2010s-counties-detail.html\n"
      ]
    }
  ]
}